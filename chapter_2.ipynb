{
 "cells": [
  {
   "cell_type": "markdown",
   "metadata": {},
   "source": [
    "# Chapter 2: Distributions"
   ]
  },
  {
   "cell_type": "markdown",
   "metadata": {},
   "source": [
    "---"
   ]
  },
  {
   "cell_type": "markdown",
   "metadata": {},
   "source": [
    "## 2.1 Histograms"
   ]
  },
  {
   "cell_type": "markdown",
   "metadata": {},
   "source": [
    "Histograms is a way of visualizing data in distribution form that measures variable frequency (how many times a value appear in the data)"
   ]
  },
  {
   "cell_type": "markdown",
   "metadata": {},
   "source": [
    "A way of counting frequency of values in a given seqeunce is:"
   ]
  },
  {
   "cell_type": "code",
   "execution_count": 1,
   "metadata": {},
   "outputs": [
    {
     "name": "stdout",
     "output_type": "stream",
     "text": [
      "{'Ford': 12, 'BMW': 12, 'MG': 12, 'Fiat': 1}\n"
     ]
    }
   ],
   "source": [
    "cars = ['Ford', 'BMW', 'MG', 'Ford', 'BMW', 'MG', 'Ford', 'BMW', 'MG',\n",
    "        'Ford', 'BMW', 'MG', 'Ford', 'BMW', 'MG', 'Ford', 'BMW', 'MG',\n",
    "        'Ford', 'BMW', 'MG', 'Ford', 'BMW', 'MG', 'Ford', 'BMW', 'MG',\n",
    "        'Ford', 'BMW', 'MG', 'Ford', 'BMW', 'MG', 'Ford', 'BMW', 'MG', 'Fiat']\n",
    "\n",
    "\n",
    "# Here we make a dict to store frequencies\n",
    "# First time the value appear it returns 0+1 and store it by the variable name in the dict\n",
    "# After that, it adds one to the existing variable's value in the dict every times it sees the variable\n",
    "\n",
    "count = {}\n",
    "for car in cars:\n",
    "\tcount[car] = count.get(car, 0)+1\n",
    "\n",
    "print(count)"
   ]
  },
  {
   "cell_type": "markdown",
   "metadata": {},
   "source": [
    "Another way is to use a built-in Counter in Python"
   ]
  },
  {
   "cell_type": "code",
   "execution_count": 2,
   "metadata": {},
   "outputs": [
    {
     "data": {
      "text/plain": [
       "Counter({'Ford': 12, 'BMW': 12, 'MG': 12, 'Fiat': 1})"
      ]
     },
     "execution_count": 2,
     "metadata": {},
     "output_type": "execute_result"
    }
   ],
   "source": [
    "from collections import Counter\n",
    "\n",
    "count = Counter(cars)           # easy peasy lemon squeezy\n",
    "count                           # The result is a Counter object, which is a subclass of dictionary."
   ]
  },
  {
   "cell_type": "markdown",
   "metadata": {},
   "source": [
    "Or we can just use the pandas value_counts() from previous chapter"
   ]
  },
  {
   "cell_type": "markdown",
   "metadata": {},
   "source": [
    "---"
   ]
  },
  {
   "cell_type": "markdown",
   "metadata": {},
   "source": [
    "## 2.2 Representing Histograms"
   ]
  },
  {
   "cell_type": "code",
   "execution_count": 7,
   "metadata": {},
   "outputs": [
    {
     "name": "stdout",
     "output_type": "stream",
     "text": [
      "Hist({'Ford': 12, 'BMW': 12, 'MG': 12, 'Fiat': 1})\n",
      "Ford repeated: 12 Times\n"
     ]
    }
   ],
   "source": [
    "# Author-defined Hist class for representing histograms\n",
    "import thinkstats2\n",
    "\n",
    "hist = thinkstats2.Hist(cars)\n",
    "print(hist)\n",
    "print(\"Ford repeated:\", hist.Freq('Ford'), \"Times\")        # Author-defined functions to calculate frequency of specific value"
   ]
  },
  {
   "cell_type": "markdown",
   "metadata": {},
   "source": [
    "Printing variables sorted"
   ]
  },
  {
   "cell_type": "code",
   "execution_count": 9,
   "metadata": {},
   "outputs": [
    {
     "name": "stdout",
     "output_type": "stream",
     "text": [
      "BMW is repeated: 12 Times\n",
      "Fiat is repeated: 1 Times\n",
      "Ford is repeated: 12 Times\n",
      "MG is repeated: 12 Times\n"
     ]
    }
   ],
   "source": [
    "for val in sorted(hist.Values()):\n",
    "    print(f\"{val} is repeated:\", f\"{hist.Freq(val)} Times\")"
   ]
  },
  {
   "cell_type": "markdown",
   "metadata": {},
   "source": [
    "---"
   ]
  },
  {
   "cell_type": "markdown",
   "metadata": {},
   "source": [
    "## 2.3 Plotting Histograms"
   ]
  },
  {
   "cell_type": "code",
   "execution_count": 12,
   "metadata": {},
   "outputs": [
    {
     "data": {
      "image/png": "[encoded data removed]",
      "text/plain": [
       "<Figure size 640x480 with 1 Axes>"
      ]
     },
     "metadata": {},
     "output_type": "display_data"
    },
    {
     "data": {
      "text/plain": [
       "<Figure size 800x600 with 0 Axes>"
      ]
     },
     "metadata": {},
     "output_type": "display_data"
    }
   ],
   "source": [
    "# Also author-defined module for plotting laying on pyplot from matplotlib\n",
    "import thinkplot\n",
    "\n",
    "thinkplot.Hist(hist)\n",
    "thinkplot.show(xlabel='Value', ylabel='Frequency')"
   ]
  },
  {
   "cell_type": "markdown",
   "metadata": {},
   "source": [
    "---"
   ]
  },
  {
   "cell_type": "markdown",
   "metadata": {},
   "source": [
    "## 2.4 NSFG Variables"
   ]
  },
  {
   "cell_type": "markdown",
   "metadata": {},
   "source": [
    "A good way to explore your data and get familiar with your dataset is to plot a histo of them"
   ]
  },
  {
   "cell_type": "code",
   "execution_count": 30,
   "metadata": {},
   "outputs": [
    {
     "name": "stderr",
     "output_type": "stream",
     "text": [
      "c:\\Users\\elkfrawy\\Desktop\\Books Notes\\Think-STATS-2\\RequiredMaterial\\nsfg.py:68: FutureWarning: A value is trying to be set on a copy of a DataFrame or Series through chained assignment using an inplace method.\n",
      "The behavior will change in pandas 3.0. This inplace method will never work because the intermediate object on which we are setting values always behaves as a copy.\n",
      "\n",
      "For example, when doing 'df[col].method(value, inplace=True)', try using 'df.method({col: value}, inplace=True)' or df[col] = df[col].method(value) instead, to perform the operation inplace on the original object.\n",
      "\n",
      "\n",
      "  df.birthwgt_lb.replace(na_vals, np.nan, inplace=True)\n",
      "c:\\Users\\elkfrawy\\Desktop\\Books Notes\\Think-STATS-2\\RequiredMaterial\\nsfg.py:69: FutureWarning: A value is trying to be set on a copy of a DataFrame or Series through chained assignment using an inplace method.\n",
      "The behavior will change in pandas 3.0. This inplace method will never work because the intermediate object on which we are setting values always behaves as a copy.\n",
      "\n",
      "For example, when doing 'df[col].method(value, inplace=True)', try using 'df.method({col: value}, inplace=True)' or df[col] = df[col].method(value) instead, to perform the operation inplace on the original object.\n",
      "\n",
      "\n",
      "  df.birthwgt_oz.replace(na_vals, np.nan, inplace=True)\n",
      "c:\\Users\\elkfrawy\\Desktop\\Books Notes\\Think-STATS-2\\RequiredMaterial\\nsfg.py:70: FutureWarning: A value is trying to be set on a copy of a DataFrame or Series through chained assignment using an inplace method.\n",
      "The behavior will change in pandas 3.0. This inplace method will never work because the intermediate object on which we are setting values always behaves as a copy.\n",
      "\n",
      "For example, when doing 'df[col].method(value, inplace=True)', try using 'df.method({col: value}, inplace=True)' or df[col] = df[col].method(value) instead, to perform the operation inplace on the original object.\n",
      "\n",
      "\n",
      "  df.hpagelb.replace(na_vals, np.nan, inplace=True)\n",
      "c:\\Users\\elkfrawy\\Desktop\\Books Notes\\Think-STATS-2\\RequiredMaterial\\nsfg.py:72: FutureWarning: A value is trying to be set on a copy of a DataFrame or Series through chained assignment using an inplace method.\n",
      "The behavior will change in pandas 3.0. This inplace method will never work because the intermediate object on which we are setting values always behaves as a copy.\n",
      "\n",
      "For example, when doing 'df[col].method(value, inplace=True)', try using 'df.method({col: value}, inplace=True)' or df[col] = df[col].method(value) instead, to perform the operation inplace on the original object.\n",
      "\n",
      "\n",
      "  df.babysex.replace([7, 9], np.nan, inplace=True)\n",
      "c:\\Users\\elkfrawy\\Desktop\\Books Notes\\Think-STATS-2\\RequiredMaterial\\nsfg.py:73: FutureWarning: A value is trying to be set on a copy of a DataFrame or Series through chained assignment using an inplace method.\n",
      "The behavior will change in pandas 3.0. This inplace method will never work because the intermediate object on which we are setting values always behaves as a copy.\n",
      "\n",
      "For example, when doing 'df[col].method(value, inplace=True)', try using 'df.method({col: value}, inplace=True)' or df[col] = df[col].method(value) instead, to perform the operation inplace on the original object.\n",
      "\n",
      "\n",
      "  df.nbrnaliv.replace([9], np.nan, inplace=True)\n"
     ]
    }
   ],
   "source": [
    "import nsfg\n",
    "\n",
    "preg = nsfg.ReadFemPreg()\n",
    "live = preg[preg.outcome == 1]"
   ]
  },
  {
   "cell_type": "code",
   "execution_count": 39,
   "metadata": {},
   "outputs": [
    {
     "data": {
      "image/png": "[encoded data removed]",
      "text/plain": [
       "<Figure size 640x480 with 1 Axes>"
      ]
     },
     "metadata": {},
     "output_type": "display_data"
    },
    {
     "data": {
      "text/plain": [
       "<Figure size 800x600 with 0 Axes>"
      ]
     },
     "metadata": {},
     "output_type": "display_data"
    }
   ],
   "source": [
    "# Plot\n",
    "hist = thinkstats2.Hist(live.birthwgt_lb, label='Birth Weight')\n",
    "thinkplot.Hist(hist)\n",
    "thinkplot.show(xlabel='Pounds', ylabel='Frequency')"
   ]
  },
  {
   "cell_type": "markdown",
   "metadata": {},
   "source": [
    "We may notice here that the left side has longer tail than the right side which indicates this as (Gaussian distribution) and not normal distribution and also tells us that **early babies are common, but pregnancies seldom go past 43 weeks, and doctors often intervene if they do.**"
   ]
  },
  {
   "cell_type": "markdown",
   "metadata": {},
   "source": [
    "---"
   ]
  },
  {
   "cell_type": "markdown",
   "metadata": {},
   "source": [
    "## 2.5 Outliers"
   ]
  },
  {
   "cell_type": "markdown",
   "metadata": {},
   "source": [
    "**Outliers** are extreme values that might be errors in measurement and recording, or might be ac- curate reports of rare events."
   ]
  },
  {
   "cell_type": "code",
   "execution_count": 43,
   "metadata": {},
   "outputs": [
    {
     "name": "stdout",
     "output_type": "stream",
     "text": [
      "0 1\n",
      "4 1\n",
      "9 1\n",
      "13 1\n",
      "17 2\n",
      "18 1\n",
      "19 1\n",
      "20 1\n",
      "21 2\n",
      "22 7\n"
     ]
    }
   ],
   "source": [
    "# Author-defined features\n",
    "hist = thinkstats2.Hist(live['prglngth'], label='Pregnancy Length')\n",
    "\n",
    "for weeks, freq in hist.Smallest(10):\n",
    "    print(weeks, freq)                  # return the n (e.g. 10) smallest values from the histogram"
   ]
  },
  {
   "cell_type": "markdown",
   "metadata": {},
   "source": [
    "- Values below 10 weeks are certainly errors; the most likely explanation is that the outcome was not coded correctly. \n",
    "- Values Between 10 and 30 weeks, it is hard to be sure; some values are probably errors, but some represent premature babies.\n",
    "- Values higher than 30 weeks are probably normal"
   ]
  },
  {
   "cell_type": "markdown",
   "metadata": {},
   "source": [
    "On the other hand"
   ]
  },
  {
   "cell_type": "code",
   "execution_count": 44,
   "metadata": {},
   "outputs": [
    {
     "name": "stdout",
     "output_type": "stream",
     "text": [
      "50 2\n",
      "48 7\n",
      "47 1\n",
      "46 1\n",
      "45 10\n",
      "44 46\n",
      "43 148\n",
      "42 328\n",
      "41 587\n",
      "40 1116\n"
     ]
    }
   ],
   "source": [
    "# Author-defined features\n",
    "\n",
    "for weeks, freq in hist.Largest(10):\n",
    "    print(weeks, freq)                  # return the n (e.g. 10) largest values from the histogram"
   ]
  },
  {
   "cell_type": "markdown",
   "metadata": {},
   "source": [
    "Since our motivating question is whether first babies tend to be early (or late) so we may interest only on babies after 27 weeks"
   ]
  },
  {
   "cell_type": "markdown",
   "metadata": {},
   "source": [
    "---"
   ]
  },
  {
   "cell_type": "markdown",
   "metadata": {},
   "source": [
    "## 2.6 First Babies"
   ]
  },
  {
   "cell_type": "markdown",
   "metadata": {},
   "source": [
    "Our interest is on first babies so we need to seperate them from others"
   ]
  },
  {
   "cell_type": "code",
   "execution_count": 51,
   "metadata": {},
   "outputs": [
    {
     "data": {
      "image/png": "[encoded data removed]",
      "text/plain": [
       "<Figure size 640x480 with 1 Axes>"
      ]
     },
     "metadata": {},
     "output_type": "display_data"
    },
    {
     "data": {
      "text/plain": [
       "<Figure size 800x600 with 0 Axes>"
      ]
     },
     "metadata": {},
     "output_type": "display_data"
    }
   ],
   "source": [
    "# Using birthord variable to split\n",
    "\n",
    "firsts = live[live['birthord'] == 1]\n",
    "others = live[live['birthord'] != 1]\n",
    "\n",
    "first_hist = thinkstats2.Hist(firsts['prglngth'], label='Firsts')\n",
    "others_hist = thinkstats2.Hist(others['prglngth'], label='Others')\n",
    "\n",
    "# Then plotting them\n",
    "width = 0.45\n",
    "thinkplot.PrePlot(2)        # Preparing for two plots\n",
    "thinkplot.Hist(first_hist, align='right', width=width)              # Adjusting align\n",
    "thinkplot.Hist(others_hist, align='left' , width=width)             # Adjusting align\n",
    "thinkplot.Show(xlabel='Weeks', ylabel='Frequency', xlim=[27, 46])"
   ]
  },
  {
   "cell_type": "markdown",
   "metadata": {},
   "source": [
    "Histograms are useful because they make the most frequent values immediately apparent. But they are not the best choice for comparing two distributions. In this example, there are fewer 'first babies\" than 'others'\n",
    "\n",
    "So some of the apparent differences in the histograms are due to sample sizes. In the\n",
    "next chapter we address this problem using **probability mass functions**."
   ]
  },
  {
   "cell_type": "markdown",
   "metadata": {},
   "source": [
    "---"
   ]
  },
  {
   "cell_type": "markdown",
   "metadata": {},
   "source": [
    "## 2.7 Summarizing Distributions"
   ]
  },
  {
   "cell_type": "markdown",
   "metadata": {},
   "source": [
    "A histogram is a complete description of the distribution of a sample\n",
    "\n",
    "If the details of the distribution are important, it might be necessary to present a histogram. But often we want to summarize the distribution with a few descriptive statistics."
   ]
  },
  {
   "cell_type": "markdown",
   "metadata": {},
   "source": [
    "- central tendency: Do the values tend to cluster around a particular point?\n",
    "\n",
    "- modes: Is there more than one cluster?\n",
    "\n",
    "- spread: How much variability is there in the values?\n",
    "\n",
    "- tails: How quickly do the probabilities drop off as we move away from the modes?\n",
    "\n",
    "- outliers: Are there extreme values far from the modes?"
   ]
  },
  {
   "cell_type": "markdown",
   "metadata": {},
   "source": [
    "Most of these answers (called **summary statistics**) can be answered with calculatin the **mean** (For now) Which describes the **central tendency** of the distribution"
   ]
  },
  {
   "cell_type": "markdown",
   "metadata": {},
   "source": [
    "**Mean is the sum of all values (sum(Xi) where i from 0 to n-1) divided by their number (n)**"
   ]
  },
  {
   "cell_type": "markdown",
   "metadata": {},
   "source": [
    "*Notice that mean can lead to misleading information if you did not investigate the data you are working with first*"
   ]
  },
  {
   "cell_type": "markdown",
   "metadata": {},
   "source": [
    "---"
   ]
  },
  {
   "cell_type": "markdown",
   "metadata": {},
   "source": [
    "## 2.8 Variance"
   ]
  },
  {
   "cell_type": "markdown",
   "metadata": {},
   "source": [
    "Variance is a summary statistic intended to describe the variability or spread of a distribution."
   ]
  },
  {
   "cell_type": "code",
   "execution_count": 53,
   "metadata": {},
   "outputs": [
    {
     "name": "stdout",
     "output_type": "stream",
     "text": [
      "Mean is: 38.56055968517709\n",
      "Variance is: 7.302662067826817\n",
      "standard deviation is: 2.702343810070587\n"
     ]
    }
   ],
   "source": [
    "# Pandas do provide methods for calculating these measurments\n",
    "\n",
    "mean = live.prglngth.mean()\n",
    "var = live.prglngth.var()\n",
    "std = live.prglngth.std()\n",
    "\n",
    "print('Mean is:', mean)\n",
    "print('Variance is:', var)\n",
    "print('standard deviation is:', std)"
   ]
  },
  {
   "cell_type": "markdown",
   "metadata": {},
   "source": [
    "This means that we should be expecting deviations of 2-3 weeks from mean"
   ]
  },
  {
   "cell_type": "markdown",
   "metadata": {},
   "source": [
    "---"
   ]
  },
  {
   "cell_type": "markdown",
   "metadata": {},
   "source": [
    "## 2.9 Effect Size "
   ]
  },
  {
   "cell_type": "markdown",
   "metadata": {},
   "source": [
    "An effect size is a summary statistic intended to describe the size of an effect. For example, to describe the difference between two groups, one obvious choice is the difference in the means."
   ]
  },
  {
   "cell_type": "markdown",
   "metadata": {},
   "source": [
    "If we assume this estimate is accurate, such a difference would have no practical consequences. In fact, without observing a large number of pregnancies, it is unlikely that anyone would notice this difference at all."
   ]
  },
  {
   "cell_type": "markdown",
   "metadata": {},
   "source": [
    "Or we can calculate cohen's d which is a way to convey the size of the effect is to compare the difference\n",
    "between groups to the variability within groups."
   ]
  },
  {
   "cell_type": "code",
   "execution_count": 54,
   "metadata": {},
   "outputs": [],
   "source": [
    "# Calculating cohen's d\n",
    "import math\n",
    "\n",
    "def CohenEffectSize(group1, group2):\n",
    "    diff = group1.mean() - group2.mean()\n",
    "    var1 = group1.var()\n",
    "    var2 = group2.var()\n",
    "    n1, n2 = len(group1), len(group2)\n",
    "    pooled_var = (n1 * var1 + n2 * var2) / (n1 + n2)\n",
    "    d = diff / math.sqrt(pooled_var)\n",
    "    return d"
   ]
  },
  {
   "cell_type": "markdown",
   "metadata": {},
   "source": [
    "---"
   ]
  },
  {
   "cell_type": "markdown",
   "metadata": {},
   "source": [
    "## 2.10 Reporting Results"
   ]
  },
  {
   "cell_type": "markdown",
   "metadata": {},
   "source": [
    "The answer depends on who is asking the question. A statistician should have the ability to deliver the right answer for the right question so you have to analyze the question and know amount of detail of even the whole answer you will be giving"
   ]
  },
  {
   "cell_type": "markdown",
   "metadata": {},
   "source": [
    "How you report results also depends on your goals. if the effect you are introducing does really need to be highlighted do it and choose visualizations that support the importance your are talking about and same logic with choosing the right summary statistics that support your idea"
   ]
  },
  {
   "cell_type": "markdown",
   "metadata": {},
   "source": [
    "---"
   ]
  },
  {
   "cell_type": "markdown",
   "metadata": {},
   "source": [
    "## Conclusion"
   ]
  },
  {
   "cell_type": "markdown",
   "metadata": {},
   "source": [
    "Chapter 2 of Think Stats 2 introduced the concept of distributions and their role in understanding how data is spread across different values. It covered basic tools like histograms and summary statistics to describe the structure of datasets. These concepts provide a foundation for analyzing data effectively and preparing for more advanced statistical techniques."
   ]
  }
 ],
 "metadata": {
  "kernelspec": {
   "display_name": "Python 3",
   "language": "python",
   "name": "python3"
  },
  "language_info": {
   "codemirror_mode": {
    "name": "ipython",
    "version": 3
   },
   "file_extension": ".py",
   "mimetype": "text/x-python",
   "name": "python",
   "nbconvert_exporter": "python",
   "pygments_lexer": "ipython3",
   "version": "3.12.1"
  }
 },
 "nbformat": 4,
 "nbformat_minor": 2
}
